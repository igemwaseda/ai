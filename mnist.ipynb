{
  "nbformat": 4,
  "nbformat_minor": 0,
  "metadata": {
    "colab": {
      "name": "mnist.ipynb",
      "provenance": [],
      "collapsed_sections": []
    },
    "kernelspec": {
      "name": "python3",
      "display_name": "Python 3"
    },
    "accelerator": "GPU"
  },
  "cells": [
    {
      "cell_type": "code",
      "metadata": {
        "id": "ikVBqh1rcWpd",
        "colab_type": "code",
        "outputId": "3485afa7-6e76-429f-89cc-9f8244e9277a",
        "colab": {
          "base_uri": "https://localhost:8080/",
          "height": 34
        }
      },
      "source": [
        "# check python's version\n",
        "!python -V"
      ],
      "execution_count": 0,
      "outputs": [
        {
          "output_type": "stream",
          "text": [
            "Python 3.6.8\n"
          ],
          "name": "stdout"
        }
      ]
    },
    {
      "cell_type": "code",
      "metadata": {
        "id": "aFWleOy7cxmB",
        "colab_type": "code",
        "outputId": "1e6ae306-db9f-431c-aa78-406af653b324",
        "colab": {
          "base_uri": "https://localhost:8080/",
          "height": 68
        }
      },
      "source": [
        "#check cuda's version\n",
        "!ls /usr/lib/x86_64-linux-gnu/libcuda*"
      ],
      "execution_count": 0,
      "outputs": [
        {
          "output_type": "stream",
          "text": [
            "/usr/lib/x86_64-linux-gnu/libcuda.so\n",
            "/usr/lib/x86_64-linux-gnu/libcuda.so.1\n",
            "/usr/lib/x86_64-linux-gnu/libcuda.so.430.40\n"
          ],
          "name": "stdout"
        }
      ]
    },
    {
      "cell_type": "code",
      "metadata": {
        "id": "2FDGANcvc6lR",
        "colab_type": "code",
        "outputId": "927ed950-7f17-45be-8196-e2552eb29322",
        "colab": {
          "base_uri": "https://localhost:8080/",
          "height": 207
        }
      },
      "source": [
        "#install PyTorch\n",
        "!pip3 install torch torchvision\n",
        "!pip install scikit-learn"
      ],
      "execution_count": 0,
      "outputs": [
        {
          "output_type": "stream",
          "text": [
            "Requirement already satisfied: torch in /usr/local/lib/python3.6/dist-packages (1.1.0)\n",
            "Requirement already satisfied: torchvision in /usr/local/lib/python3.6/dist-packages (0.3.0)\n",
            "Requirement already satisfied: numpy in /usr/local/lib/python3.6/dist-packages (from torch) (1.16.5)\n",
            "Requirement already satisfied: pillow>=4.1.1 in /usr/local/lib/python3.6/dist-packages (from torchvision) (4.3.0)\n",
            "Requirement already satisfied: six in /usr/local/lib/python3.6/dist-packages (from torchvision) (1.12.0)\n",
            "Requirement already satisfied: olefile in /usr/local/lib/python3.6/dist-packages (from pillow>=4.1.1->torchvision) (0.46)\n",
            "Requirement already satisfied: scikit-learn in /usr/local/lib/python3.6/dist-packages (0.21.3)\n",
            "Requirement already satisfied: scipy>=0.17.0 in /usr/local/lib/python3.6/dist-packages (from scikit-learn) (1.3.1)\n",
            "Requirement already satisfied: numpy>=1.11.0 in /usr/local/lib/python3.6/dist-packages (from scikit-learn) (1.16.5)\n",
            "Requirement already satisfied: joblib>=0.11 in /usr/local/lib/python3.6/dist-packages (from scikit-learn) (0.13.2)\n"
          ],
          "name": "stdout"
        }
      ]
    },
    {
      "cell_type": "code",
      "metadata": {
        "id": "iNM3-CLHdUAc",
        "colab_type": "code",
        "colab": {}
      },
      "source": [
        "#import\n",
        "import torch, torchvision\n",
        "import matplotlib.pyplot as plt\n",
        "from sklearn.datasets import fetch_openml"
      ],
      "execution_count": 0,
      "outputs": []
    },
    {
      "cell_type": "code",
      "metadata": {
        "id": "yjDBJNc4oUZg",
        "colab_type": "code",
        "colab": {}
      },
      "source": [
        "#for colab\n",
        "#from google.colab import drive\n",
        "#import gzip\n",
        "#import pickle\n",
        "#mount\n",
        "#drive.mount('/content/drive/')\n",
        "#change directory\n",
        "#%cd \"/content/drive/My Drive/data\"\n",
        "#!ls\n",
        "#define file name\n",
        "#FILE_NAME = 'mnist.pkl.gz'\n",
        "#open file\n",
        "#with gzip.open(FILE_NAME, 'rb') as f:\n",
        "  #dataset = pickle.load()"
      ],
      "execution_count": 0,
      "outputs": []
    },
    {
      "cell_type": "code",
      "metadata": {
        "id": "udlSMsFZd7cW",
        "colab_type": "code",
        "colab": {}
      },
      "source": [
        "#fetch dataset\n",
        "device = torch.device('cuda' if torch.cuda.is_available() else 'cpu')\n",
        "X, y = fetch_openml('mnist_784', version=1, return_X_y=True)\n",
        "X /= 255\n",
        "y = [float(s) for s in y]"
      ],
      "execution_count": 0,
      "outputs": []
    },
    {
      "cell_type": "code",
      "metadata": {
        "id": "8Ngih8z-edce",
        "colab_type": "code",
        "outputId": "774a4167-4792-4b47-877d-c46a077554bb",
        "colab": {
          "base_uri": "https://localhost:8080/",
          "height": 286
        }
      },
      "source": [
        "#show the subset of the dataset\n",
        "plt.imshow(X[7].reshape(28, 28), cmap=plt.cm.gray)\n",
        "print('{:.0f}'.format(y[1]))"
      ],
      "execution_count": 0,
      "outputs": [
        {
          "output_type": "stream",
          "text": [
            "0\n"
          ],
          "name": "stdout"
        },
        {
          "output_type": "display_data",
          "data": {
            "image/png": "[encoded data removed]",
            "text/plain": [
              "<Figure size 432x288 with 1 Axes>"
            ]
          },
          "metadata": {
            "tags": []
          }
        }
      ]
    },
    {
      "cell_type": "code",
      "metadata": {
        "id": "t9gTiQ47e0sC",
        "colab_type": "code",
        "colab": {}
      },
      "source": [
        "#import DataLoader\n",
        "from torch.utils.data import TensorDataset, DataLoader\n",
        "from sklearn.model_selection import train_test_split"
      ],
      "execution_count": 0,
      "outputs": []
    },
    {
      "cell_type": "code",
      "metadata": {
        "id": "pJ-hwrZbfKLW",
        "colab_type": "code",
        "outputId": "0856413c-1603-41ad-f484-23ab0c7eabfc",
        "colab": {
          "base_uri": "https://localhost:8080/",
          "height": 34
        }
      },
      "source": [
        "#make DataLoader\n",
        "X_train, X_test, y_train, y_test = train_test_split(X, y, test_size=1/7, random_state=0)\n",
        "\n",
        "print(y_train[0])\n",
        "\n",
        "X_train = torch.Tensor(X_train)\n",
        "X_test = torch.Tensor(X_test)\n",
        "y_train = torch.LongTensor(y_train)\n",
        "y_test = torch.LongTensor(y_test)\n",
        "\n",
        "ds_train = TensorDataset(X_train, y_train)\n",
        "ds_test = TensorDataset(X_test, y_test)\n",
        "\n",
        "loader_train = DataLoader(ds_train, batch_size=64, shuffle=True)\n",
        "loader_test = DataLoader(ds_test, batch_size=64, shuffle=True)"
      ],
      "execution_count": 0,
      "outputs": [
        {
          "output_type": "stream",
          "text": [
            "7.0\n"
          ],
          "name": "stdout"
        }
      ]
    },
    {
      "cell_type": "code",
      "metadata": {
        "id": "tJUt9Mu0gGAx",
        "colab_type": "code",
        "colab": {}
      },
      "source": [
        "#import nn\n",
        "from torch import nn"
      ],
      "execution_count": 0,
      "outputs": []
    },
    {
      "cell_type": "code",
      "metadata": {
        "id": "hsojHUkOgNUk",
        "colab_type": "code",
        "outputId": "57d7485b-a6b5-4c5d-eae9-652f03141562",
        "colab": {
          "base_uri": "https://localhost:8080/",
          "height": 136
        }
      },
      "source": [
        "#create Network\n",
        "model = nn.Sequential()\n",
        "model.add_module('fc1', nn.Linear(28*28*1, 100))\n",
        "model.add_module('relu1', nn.ReLU())\n",
        "model.add_module('fc2', nn.Linear(100, 100))\n",
        "model.add_module('relu2', nn.ReLU())\n",
        "model.add_module('fc3', nn.Linear(100, 10))\n",
        "\n",
        "model.to(device)\n",
        "print(model)"
      ],
      "execution_count": 0,
      "outputs": [
        {
          "output_type": "stream",
          "text": [
            "Sequential(\n",
            "  (fc1): Linear(in_features=784, out_features=100, bias=True)\n",
            "  (relu1): ReLU()\n",
            "  (fc2): Linear(in_features=100, out_features=100, bias=True)\n",
            "  (relu2): ReLU()\n",
            "  (fc3): Linear(in_features=100, out_features=10, bias=True)\n",
            ")\n"
          ],
          "name": "stdout"
        }
      ]
    },
    {
      "cell_type": "code",
      "metadata": {
        "id": "8xrQiSHigxAW",
        "colab_type": "code",
        "colab": {}
      },
      "source": [
        "#import optim\n",
        "from torch import optim"
      ],
      "execution_count": 0,
      "outputs": []
    },
    {
      "cell_type": "code",
      "metadata": {
        "id": "OYWenNlig8Oe",
        "colab_type": "code",
        "colab": {}
      },
      "source": [
        "#set optimizer\n",
        "loss_fn = nn.CrossEntropyLoss()\n",
        "optimizer = optim.Adam(model.parameters(), lr=0.01)"
      ],
      "execution_count": 0,
      "outputs": []
    },
    {
      "cell_type": "code",
      "metadata": {
        "id": "fuePswj2hFGy",
        "colab_type": "code",
        "colab": {}
      },
      "source": [
        "#define training style\n",
        "def train(epoch):\n",
        "  model.train()\n",
        "  \n",
        "  for data, targets in loader_train:\n",
        "    data, targets = data.cuda(), targets.cuda()\n",
        "    \n",
        "    optimizer.zero_grad()\n",
        "    outputs = model(data)\n",
        "    loss = loss_fn(outputs, targets)\n",
        "    \n",
        "    loss.backward()\n",
        "    optimizer.step()\n",
        "\n",
        "  print('epoch{}: finished\\n'.format(epoch))"
      ],
      "execution_count": 0,
      "outputs": []
    },
    {
      "cell_type": "code",
      "metadata": {
        "id": "o04rF8tlhrhj",
        "colab_type": "code",
        "colab": {}
      },
      "source": [
        "#define test style\n",
        "def test():\n",
        "  model.eval()\n",
        "  correct = 0\n",
        "  \n",
        "  with torch.no_grad():\n",
        "    for data, targets in loader_test:\n",
        "      data, targets = data.cuda(), targets.cuda()\n",
        "      \n",
        "      outputs = model(data)\n",
        "      \n",
        "      _, predicted = torch.max(outputs.data, 1)\n",
        "      correct += predicted.eq(targets.data.view_as(predicted)).sum()\n",
        "    \n",
        "    data_num = len(loader_test.dataset)\n",
        "    print('\\nAccuracy of teh test:{}/{}({:.0f}%)\\n'.format(correct, data_num, 100. * correct / data_num))"
      ],
      "execution_count": 0,
      "outputs": []
    },
    {
      "cell_type": "code",
      "metadata": {
        "id": "fE_mSWzsjTwL",
        "colab_type": "code",
        "outputId": "fac740a7-26f0-4716-d604-a95dd17da2e9",
        "colab": {
          "base_uri": "https://localhost:8080/",
          "height": 68
        }
      },
      "source": [
        "#test before training\n",
        "test()"
      ],
      "execution_count": 0,
      "outputs": [
        {
          "output_type": "stream",
          "text": [
            "\n",
            "Accuracy of teh test:1032/10000(10%)\n",
            "\n"
          ],
          "name": "stdout"
        }
      ]
    },
    {
      "cell_type": "code",
      "metadata": {
        "id": "t-2JRPIfjY87",
        "colab_type": "code",
        "outputId": "c089c281-f55a-49c9-87b5-636a48243fd7",
        "colab": {
          "base_uri": "https://localhost:8080/",
          "height": 1000
        }
      },
      "source": [
        "#exec training\n",
        "for epoch in range(100):\n",
        "  train(epoch)"
      ],
      "execution_count": 0,
      "outputs": [
        {
          "output_type": "stream",
          "text": [
            "epoch0: finished\n",
            "\n",
            "epoch1: finished\n",
            "\n",
            "epoch2: finished\n",
            "\n",
            "epoch3: finished\n",
            "\n",
            "epoch4: finished\n",
            "\n",
            "epoch5: finished\n",
            "\n",
            "epoch6: finished\n",
            "\n",
            "epoch7: finished\n",
            "\n",
            "epoch8: finished\n",
            "\n",
            "epoch9: finished\n",
            "\n",
            "epoch10: finished\n",
            "\n",
            "epoch11: finished\n",
            "\n",
            "epoch12: finished\n",
            "\n",
            "epoch13: finished\n",
            "\n",
            "epoch14: finished\n",
            "\n",
            "epoch15: finished\n",
            "\n",
            "epoch16: finished\n",
            "\n",
            "epoch17: finished\n",
            "\n",
            "epoch18: finished\n",
            "\n",
            "epoch19: finished\n",
            "\n",
            "epoch20: finished\n",
            "\n",
            "epoch21: finished\n",
            "\n",
            "epoch22: finished\n",
            "\n",
            "epoch23: finished\n",
            "\n",
            "epoch24: finished\n",
            "\n",
            "epoch25: finished\n",
            "\n",
            "epoch26: finished\n",
            "\n",
            "epoch27: finished\n",
            "\n",
            "epoch28: finished\n",
            "\n",
            "epoch29: finished\n",
            "\n",
            "epoch30: finished\n",
            "\n",
            "epoch31: finished\n",
            "\n",
            "epoch32: finished\n",
            "\n",
            "epoch33: finished\n",
            "\n",
            "epoch34: finished\n",
            "\n",
            "epoch35: finished\n",
            "\n",
            "epoch36: finished\n",
            "\n",
            "epoch37: finished\n",
            "\n",
            "epoch38: finished\n",
            "\n",
            "epoch39: finished\n",
            "\n",
            "epoch40: finished\n",
            "\n",
            "epoch41: finished\n",
            "\n",
            "epoch42: finished\n",
            "\n",
            "epoch43: finished\n",
            "\n",
            "epoch44: finished\n",
            "\n",
            "epoch45: finished\n",
            "\n",
            "epoch46: finished\n",
            "\n",
            "epoch47: finished\n",
            "\n",
            "epoch48: finished\n",
            "\n",
            "epoch49: finished\n",
            "\n",
            "epoch50: finished\n",
            "\n",
            "epoch51: finished\n",
            "\n",
            "epoch52: finished\n",
            "\n",
            "epoch53: finished\n",
            "\n",
            "epoch54: finished\n",
            "\n",
            "epoch55: finished\n",
            "\n",
            "epoch56: finished\n",
            "\n",
            "epoch57: finished\n",
            "\n",
            "epoch58: finished\n",
            "\n",
            "epoch59: finished\n",
            "\n",
            "epoch60: finished\n",
            "\n",
            "epoch61: finished\n",
            "\n",
            "epoch62: finished\n",
            "\n",
            "epoch63: finished\n",
            "\n",
            "epoch64: finished\n",
            "\n",
            "epoch65: finished\n",
            "\n",
            "epoch66: finished\n",
            "\n",
            "epoch67: finished\n",
            "\n",
            "epoch68: finished\n",
            "\n",
            "epoch69: finished\n",
            "\n",
            "epoch70: finished\n",
            "\n",
            "epoch71: finished\n",
            "\n",
            "epoch72: finished\n",
            "\n",
            "epoch73: finished\n",
            "\n",
            "epoch74: finished\n",
            "\n",
            "epoch75: finished\n",
            "\n",
            "epoch76: finished\n",
            "\n",
            "epoch77: finished\n",
            "\n",
            "epoch78: finished\n",
            "\n",
            "epoch79: finished\n",
            "\n",
            "epoch80: finished\n",
            "\n",
            "epoch81: finished\n",
            "\n",
            "epoch82: finished\n",
            "\n",
            "epoch83: finished\n",
            "\n",
            "epoch84: finished\n",
            "\n",
            "epoch85: finished\n",
            "\n",
            "epoch86: finished\n",
            "\n",
            "epoch87: finished\n",
            "\n",
            "epoch88: finished\n",
            "\n",
            "epoch89: finished\n",
            "\n",
            "epoch90: finished\n",
            "\n",
            "epoch91: finished\n",
            "\n",
            "epoch92: finished\n",
            "\n",
            "epoch93: finished\n",
            "\n",
            "epoch94: finished\n",
            "\n",
            "epoch95: finished\n",
            "\n",
            "epoch96: finished\n",
            "\n",
            "epoch97: finished\n",
            "\n",
            "epoch98: finished\n",
            "\n",
            "epoch99: finished\n",
            "\n"
          ],
          "name": "stdout"
        }
      ]
    },
    {
      "cell_type": "code",
      "metadata": {
        "id": "_wKUwl5Wji1v",
        "colab_type": "code",
        "outputId": "cffcc64b-502b-438d-b2aa-e67592bb8752",
        "colab": {
          "base_uri": "https://localhost:8080/",
          "height": 68
        }
      },
      "source": [
        "#test after training\n",
        "test()"
      ],
      "execution_count": 0,
      "outputs": [
        {
          "output_type": "stream",
          "text": [
            "\n",
            "Accuracy of teh test:9618/10000(96%)\n",
            "\n"
          ],
          "name": "stdout"
        }
      ]
    }
  ]
}